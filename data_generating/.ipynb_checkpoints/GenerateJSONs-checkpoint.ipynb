{
 "metadata": {
  "name": ""
 },
 "nbformat": 3,
 "nbformat_minor": 0,
 "worksheets": [
  {
   "cells": [
    {
     "cell_type": "heading",
     "level": 3,
     "metadata": {},
     "source": [
      "This code generates the jobs JSON files:"
     ]
    },
    {
     "cell_type": "code",
     "collapsed": false,
     "input": [
      "import csv\n",
      "import json\n",
      "\n",
      "jsonFile = open(\"data.json\", \"r\")\n",
      "data = json.load(jsonFile)\n",
      "jsonFile.close()\n",
      "\n",
      "#add x and y fixed position of each node\n",
      "rownum=0\n",
      "with open('loc.csv', 'rb') as f:\n",
      "    reader = csv.reader(f)\n",
      "    for row in reader:\n",
      "        if rownum != 0: #ignore header\n",
      "           data[\"nodes\"][rownum-1][\"cx\"] = row[1]\n",
      "           data[\"nodes\"][rownum-1][\"cy\"] = row[2]\n",
      "        rownum+=1\n",
      "      \n",
      "#add RCA value to each node        \n",
      "rownum=0\n",
      "rownum2 = 0   \n",
      "with open('bedoor_rca.csv', 'rb') as f:\n",
      "    reader = csv.reader(f)\n",
      "    for row in reader:\n",
      "        if rownum != 0: #ignore header\n",
      "            #add job title and OCC code\n",
      "            data[\"title\"]=row[1]\n",
      "            data[\"OCC_Code\"]=row[0]\n",
      "            for x in range(0,len(data[\"nodes\"])):\n",
      "                   data[\"nodes\"][x][\"rca\"] = row[x+2]\n",
      "            \n",
      "            #add job description  \n",
      "            while True:\n",
      "                with open(\"bedoor_occupation_description.csv\", 'rb') as g:\n",
      "                    mycsv = csv.reader(g)\n",
      "                    mycsv = list(mycsv)\n",
      "                    OCC = mycsv[rownum2][0]\n",
      "                    if data[\"OCC_Code\"]!=OCC:\n",
      "                        rownum2+=1\n",
      "                    else:\n",
      "                        data[\"description\"]=mycsv[rownum2][2]\n",
      "                        break\n",
      "                \n",
      "            exec \"jsonFile = open('../json files/%s.json', 'w+')\" %(data[\"OCC_Code\"],)\n",
      "            jsonFile.write(json.dumps(data))\n",
      "            jsonFile.close()\n",
      "        rownum+=1\n",
      "\n"
     ],
     "language": "python",
     "metadata": {},
     "outputs": [],
     "prompt_number": 59
    },
    {
     "cell_type": "heading",
     "level": 3,
     "metadata": {},
     "source": [
      "This code divides the RCA values in n Quantiles"
     ]
    },
    {
     "cell_type": "code",
     "collapsed": false,
     "input": [
      "import csv\n",
      "\n",
      "arr = []\n",
      "rownum=0\n",
      "#copy all rca values to array\n",
      "with open('bedoor_rca.csv', 'rb') as f:\n",
      "    reader = csv.reader(f)\n",
      "    for row in reader:\n",
      "        if rownum != 0: #ignore header\n",
      "            for x in range(0,244):\n",
      "                   arr.append(row[x+2])\n",
      "        rownum+=1\n",
      "\n",
      "#order rca values in array\n",
      "arr=[float(i) for i in arr]\n",
      "    \n",
      "arr.sort()\n",
      "\n",
      "#figure out n class ranges\n",
      "print \"length =\", len(arr)\n",
      "n=10\n",
      "for i in range(1,n+1):\n",
      "    print arr[(len(arr)-1)*i/n]\n"
     ],
     "language": "python",
     "metadata": {},
     "outputs": [
      {
       "output_type": "stream",
       "stream": "stdout",
       "text": [
        "length = 186904\n",
        "0.2589988343\n",
        "0.5485674132\n",
        "0.7081012255\n",
        "0.8236051749\n",
        "0.9320670719\n",
        "1.0425610511\n",
        "1.1751796521\n",
        "1.3608859543\n",
        "1.7132505599\n",
        "19.6583007245\n"
       ]
      }
     ],
     "prompt_number": 1
    },
    {
     "cell_type": "code",
     "collapsed": false,
     "input": [
      "import csv\n",
      "\n",
      "arr = []\n",
      "rownum=0\n",
      "#copy all rca values to array\n",
      "with open('bedoor_rca_cities.csv', 'rb') as f:\n",
      "    reader = csv.reader(f)\n",
      "    for row in reader:\n",
      "        if rownum != 0: #ignore header\n",
      "            for x in range(0,244):\n",
      "                   arr.append(row[x+2])\n",
      "        rownum+=1\n",
      "\n",
      "#order rca values in array\n",
      "arr=[float(i) for i in arr]\n",
      "    \n",
      "arr.sort()\n",
      "\n",
      "#figure out n class ranges\n",
      "print \"length =\", len(arr)\n",
      "n=10\n",
      "for i in range(1,n+1):\n",
      "    print arr[(len(arr)-1)*i/n]"
     ],
     "language": "python",
     "metadata": {},
     "outputs": [
      {
       "ename": "ValueError",
       "evalue": "could not convert string to float: Abilene, TX",
       "output_type": "pyerr",
       "traceback": [
        "\u001b[0;31m---------------------------------------------------------------------------\u001b[0m\n\u001b[0;31mValueError\u001b[0m                                Traceback (most recent call last)",
        "\u001b[0;32m<ipython-input-57-8c83194aa074>\u001b[0m in \u001b[0;36m<module>\u001b[0;34m()\u001b[0m\n\u001b[1;32m     13\u001b[0m \u001b[0;34m\u001b[0m\u001b[0m\n\u001b[1;32m     14\u001b[0m \u001b[0;31m#order rca values in array\u001b[0m\u001b[0;34m\u001b[0m\u001b[0;34m\u001b[0m\u001b[0m\n\u001b[0;32m---> 15\u001b[0;31m \u001b[0marr\u001b[0m\u001b[0;34m=\u001b[0m\u001b[0;34m[\u001b[0m\u001b[0mfloat\u001b[0m\u001b[0;34m(\u001b[0m\u001b[0mi\u001b[0m\u001b[0;34m)\u001b[0m \u001b[0;32mfor\u001b[0m \u001b[0mi\u001b[0m \u001b[0;32min\u001b[0m \u001b[0marr\u001b[0m\u001b[0;34m]\u001b[0m\u001b[0;34m\u001b[0m\u001b[0m\n\u001b[0m\u001b[1;32m     16\u001b[0m \u001b[0;34m\u001b[0m\u001b[0m\n\u001b[1;32m     17\u001b[0m \u001b[0marr\u001b[0m\u001b[0;34m.\u001b[0m\u001b[0msort\u001b[0m\u001b[0;34m(\u001b[0m\u001b[0;34m)\u001b[0m\u001b[0;34m\u001b[0m\u001b[0m\n",
        "\u001b[0;31mValueError\u001b[0m: could not convert string to float: Abilene, TX"
       ]
      }
     ],
     "prompt_number": 57
    },
    {
     "cell_type": "heading",
     "level": 3,
     "metadata": {},
     "source": [
      "Generate drop down menu json file"
     ]
    },
    {
     "cell_type": "code",
     "collapsed": false,
     "input": [
      "import csv\n",
      "import json\n",
      "\n",
      "jsonFile = open(\"../json files/job_categories.json\", \"r\")\n",
      "data = json.load(jsonFile)\n",
      "jsonFile.close()\n",
      "\n",
      "catnum=0\n",
      "rownum=0\n",
      "with open('bedoor_jobname.csv', 'rb') as f:\n",
      "    reader = csv.reader(f)\n",
      "    for row in reader:\n",
      "        if rownum != 0: #ignore header\n",
      "            while True:\n",
      "                if (int(row[0][0]+row[0][1])==data[catnum][\"code\"]):\n",
      "                    #print data[catnum][\"code\"],\"::::\",row[0], row[1]\n",
      "                    data[catnum][\"jobs\"].append({\"OCC_Code\":row[0],\"title\":row[1]})\n",
      "                \n",
      "                rownum+=1\n",
      "                    break\n",
      "                else:\n",
      "                    catnum+=1\n",
      "                    #print data[catnum][\"code\"],\"::::\",row[0]\n",
      "                    data[catnum][\"jobs\"].append({\"OCC_Code\":row[0],\"title\":row[1]})\n",
      "                    break\n",
      "        rownum+=1\n",
      "        \n",
      "jsonFile = open('../json files/job_categories.json', 'w+')\n",
      "jsonFile.write(json.dumps(data))\n",
      "jsonFile.close()        \n",
      "        \n",
      "        \n"
     ],
     "language": "python",
     "metadata": {},
     "outputs": [],
     "prompt_number": 48
    },
    {
     "cell_type": "heading",
     "level": 3,
     "metadata": {},
     "source": [
      "Generate cities data files"
     ]
    },
    {
     "cell_type": "code",
     "collapsed": false,
     "input": [
      "import csv\n",
      "import json\n",
      "\n",
      "jsonFile = open(\"data.json\", \"r\")\n",
      "data = json.load(jsonFile)\n",
      "jsonFile.close()\n",
      "\n",
      "#add x and y fixed position of each node\n",
      "rownum=0\n",
      "with open('loc.csv', 'rb') as f:\n",
      "    reader = csv.reader(f)\n",
      "    for row in reader:\n",
      "        if rownum != 0: #ignore header\n",
      "           data[\"nodes\"][rownum-1][\"cx\"] = row[1]\n",
      "           data[\"nodes\"][rownum-1][\"cy\"] = row[2]\n",
      "        rownum+=1\n",
      "      \n",
      "#add RCA value to each node        \n",
      "rownum=0  \n",
      "with open('bedoor_rca_cities.csv', 'rb') as f:\n",
      "    reader = csv.reader(f)\n",
      "    for row in reader:\n",
      "        if rownum != 0: #ignore header\n",
      "            #add city name and code\n",
      "            data[\"city_name\"]=row[1]\n",
      "            data[\"city_code\"]=row[0]\n",
      "            for x in range(0,len(data[\"nodes\"])):\n",
      "                   data[\"nodes\"][x][\"rca\"] = row[x+2]\n",
      "                \n",
      "            exec \"jsonFile = open('../json files/%s.json', 'w+')\" %(data[\"city_code\"],)\n",
      "            jsonFile.write(json.dumps(data))\n",
      "            jsonFile.close()\n",
      "        rownum+=1"
     ],
     "language": "python",
     "metadata": {},
     "outputs": [],
     "prompt_number": 55
    },
    {
     "cell_type": "code",
     "collapsed": false,
     "input": [],
     "language": "python",
     "metadata": {},
     "outputs": []
    }
   ],
   "metadata": {}
  }
 ]
}